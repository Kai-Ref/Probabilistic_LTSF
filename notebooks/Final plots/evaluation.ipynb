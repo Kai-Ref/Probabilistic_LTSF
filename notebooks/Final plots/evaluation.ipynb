{
 "cells": [
  {
   "cell_type": "code",
   "execution_count": 5,
   "id": "df69e24e-2162-4989-9bf0-b68682d6b1a4",
   "metadata": {},
   "outputs": [
    {
     "name": "stderr",
     "output_type": "stream",
     "text": [
      "2025-06-05 21:55:12,004 - easytorch-env - INFO - Use devices 0.\n"
     ]
    }
   ],
   "source": [
    "import os\n",
    "os.chdir('/home/kreffert/Probabilistic_LTSF/BasicTS/')\n",
    "from basicts.metrics import masked_mae, masked_mse, nll_loss, crps, Evaluator, quantile_loss, empirical_crps\n",
    "from easytorch.device import set_device_type\n",
    "from easytorch.utils import get_logger, set_visible_devices\n",
    "# set the device type (CPU, GPU, or MLU)\n",
    "device_type ='gpu'\n",
    "gpus = '0'\n",
    "set_device_type(device_type)\n",
    "set_visible_devices(gpus)\n",
    "from easydict import EasyDict\n",
    "\n",
    "def load_cfg(cfg, random_state=None):\n",
    "    from easytorch.config import init_cfg\n",
    "    # cfg path which start with dot will crash the easytorch, just remove dot\n",
    "    while isinstance(cfg, str) and cfg.startswith(('./','.\\\\')):\n",
    "        cfg = cfg[2:]\n",
    "    # while ckpt_path.startswith(('./','.\\\\')):\n",
    "    #     ckpt_path = ckpt_path[2:]\n",
    "    \n",
    "    # initialize the configuration\n",
    "    cfg = init_cfg(cfg, save=False)\n",
    "    cfg['METRICS'] = EasyDict()\n",
    "    all_metrics = [#\"MSE\", \"abs_error\", \"abs_target_sum\", \"abs_target_mean\",\n",
    "                    # \"MAPE\", \"sMAPE\", \"MASE\", \"RMSE\", \"NRMSE\", \"ND\", \"weighted_ND\",\n",
    "                    \"mean_absolute_QuantileLoss\", \"CRPS\", \"MAE_Coverage\", \"NLL\", \n",
    "                    #\"VS\", \"ES\"\n",
    "                    ]\n",
    "    cfg['METRICS']['FUNCS'] = EasyDict({\n",
    "        'NLL': nll_loss,\n",
    "        'CRPS': crps,\n",
    "        # 'Evaluator': Evaluator(distribution_type=MODEL_PARAM['distribution_type'], \n",
    "        #                        quantiles=MODEL_PARAM['quantiles']),\n",
    "        'Val_Evaluator': Evaluator(distribution_type=cfg['MODEL']['PARAM']['distribution_type'], metrics = all_metrics,\n",
    "                                quantiles=cfg['MODEL']['PARAM']['prob_args']['quantiles']),  # only use the evaluator during validation/testing iters\n",
    "    })\n",
    "\n",
    "    \n",
    "    if random_state is not None:\n",
    "        print(f'Using random state {random_state}')\n",
    "        import os\n",
    "        os.environ[\"CUBLAS_WORKSPACE_CONFIG\"] = \":4096:8\"\n",
    "        cfg['ENV'] = EasyDict() # Environment settings. Default: None\n",
    "        # GPU and random seed settings\n",
    "        cfg['ENV']['TF32'] = True # Whether to use TensorFloat-32 in GPU. Default: False. See https://pytorch.org/docs/stable/notes/cuda.html#tf32-on-ampere.\n",
    "        cfg['ENV']['SEED'] = random_state # Random seed. Default: None\n",
    "        cfg['ENV']['DETERMINISTIC'] = True # Whether to set the random seed to get deterministic results. Default: False\n",
    "        cfg['ENV']['CUDNN'] = EasyDict()\n",
    "        cfg['ENV']['CUDNN']['ENABLED'] = True # Whether to enable cuDNN. Default: True\n",
    "        cfg['ENV']['CUDNN']['BENCHMARK'] = True# Whether to enable cuDNN benchmark. Default: True\n",
    "        cfg['ENV']['CUDNN']['DETERMINISTIC'] = False # Whether to set cuDNN to deterministic mode. Default: False\n",
    "    return cfg\n",
    "\n",
    "def evaluate_configs(configs):\n",
    "    for key in configs.keys():\n",
    "        configs[key]['cfg'] = load_cfg(configs[key]['cfg'], random_state=None)\n",
    "        cfg = configs[key]['cfg']\n",
    "        print(cfg)\n",
    "        ckpt_path = '/home/kreffert/Probabilistic_LTSF/BasicTS/' + configs[key]['ckpt']\n",
    "        strict = True\n",
    "        runner = cfg['RUNNER'](cfg)\n",
    "        # setup the graph if needed\n",
    "        if runner.need_setup_graph:\n",
    "            runner.setup_graph(cfg=cfg, train=False)\n",
    "            \n",
    "        print(f'Loading model checkpoint from {ckpt_path}')\n",
    "        runner.load_model(ckpt_path=ckpt_path, strict=strict)\n",
    "        \n",
    "        runner.test_pipeline(cfg=cfg, save_metrics=False, save_results=False)"
   ]
  },
  {
   "cell_type": "code",
   "execution_count": 6,
   "id": "d8aeccb4-a121-4d9d-91dc-322a323cbcac",
   "metadata": {},
   "outputs": [
    {
     "ename": "KeyError",
     "evalue": "'quantiles'",
     "output_type": "error",
     "traceback": [
      "\u001b[31m---------------------------------------------------------------------------\u001b[39m",
      "\u001b[31mKeyError\u001b[39m                                  Traceback (most recent call last)",
      "\u001b[36mCell\u001b[39m\u001b[36m \u001b[39m\u001b[32mIn[6]\u001b[39m\u001b[32m, line 9\u001b[39m\n\u001b[32m      1\u001b[39m \u001b[38;5;66;03m# 1. load the model and set the device\u001b[39;00m\n\u001b[32m      2\u001b[39m configs = {\u001b[38;5;66;03m#'ETTh1_PTST_u': {'cfg':'final_weights/PatchTST/univariate/ETTh1_prob.py',\u001b[39;00m\n\u001b[32m      3\u001b[39m            \u001b[38;5;66;03m#                 'ckpt': 'final_weights/PatchTST/univariate/ETTh1_100_96_720/a8de06edad7530010e0b704422b431a2/PatchTST_best_val_NLL.pt'\u001b[39;00m\n\u001b[32m      4\u001b[39m            \u001b[38;5;66;03m#                },\u001b[39;00m\n\u001b[32m   (...)\u001b[39m\u001b[32m      7\u001b[39m                            }\n\u001b[32m      8\u001b[39m           }\n\u001b[32m----> \u001b[39m\u001b[32m9\u001b[39m \u001b[43mevaluate_configs\u001b[49m\u001b[43m(\u001b[49m\u001b[43mconfigs\u001b[49m\u001b[43m)\u001b[49m\n",
      "\u001b[36mCell\u001b[39m\u001b[36m \u001b[39m\u001b[32mIn[5]\u001b[39m\u001b[32m, line 56\u001b[39m, in \u001b[36mevaluate_configs\u001b[39m\u001b[34m(configs)\u001b[39m\n\u001b[32m     54\u001b[39m \u001b[38;5;28;01mdef\u001b[39;00m\u001b[38;5;250m \u001b[39m\u001b[34mevaluate_configs\u001b[39m(configs):\n\u001b[32m     55\u001b[39m     \u001b[38;5;28;01mfor\u001b[39;00m key \u001b[38;5;129;01min\u001b[39;00m configs.keys():\n\u001b[32m---> \u001b[39m\u001b[32m56\u001b[39m         configs[key][\u001b[33m'\u001b[39m\u001b[33mcfg\u001b[39m\u001b[33m'\u001b[39m] = \u001b[43mload_cfg\u001b[49m\u001b[43m(\u001b[49m\u001b[43mconfigs\u001b[49m\u001b[43m[\u001b[49m\u001b[43mkey\u001b[49m\u001b[43m]\u001b[49m\u001b[43m[\u001b[49m\u001b[33;43m'\u001b[39;49m\u001b[33;43mcfg\u001b[39;49m\u001b[33;43m'\u001b[39;49m\u001b[43m]\u001b[49m\u001b[43m,\u001b[49m\u001b[43m \u001b[49m\u001b[43mrandom_state\u001b[49m\u001b[43m=\u001b[49m\u001b[38;5;28;43;01mNone\u001b[39;49;00m\u001b[43m)\u001b[49m\n\u001b[32m     57\u001b[39m         cfg = configs[key][\u001b[33m'\u001b[39m\u001b[33mcfg\u001b[39m\u001b[33m'\u001b[39m]\n\u001b[32m     58\u001b[39m         \u001b[38;5;28mprint\u001b[39m(cfg)\n",
      "\u001b[36mCell\u001b[39m\u001b[36m \u001b[39m\u001b[32mIn[5]\u001b[39m\u001b[32m, line 34\u001b[39m, in \u001b[36mload_cfg\u001b[39m\u001b[34m(cfg, random_state)\u001b[39m\n\u001b[32m     23\u001b[39m cfg[\u001b[33m'\u001b[39m\u001b[33mMETRICS\u001b[39m\u001b[33m'\u001b[39m] = EasyDict()\n\u001b[32m     24\u001b[39m all_metrics = [\u001b[38;5;66;03m#\"MSE\", \"abs_error\", \"abs_target_sum\", \"abs_target_mean\",\u001b[39;00m\n\u001b[32m     25\u001b[39m                 \u001b[38;5;66;03m# \"MAPE\", \"sMAPE\", \"MASE\", \"RMSE\", \"NRMSE\", \"ND\", \"weighted_ND\",\u001b[39;00m\n\u001b[32m     26\u001b[39m                 \u001b[33m\"\u001b[39m\u001b[33mmean_absolute_QuantileLoss\u001b[39m\u001b[33m\"\u001b[39m, \u001b[33m\"\u001b[39m\u001b[33mCRPS\u001b[39m\u001b[33m\"\u001b[39m, \u001b[33m\"\u001b[39m\u001b[33mMAE_Coverage\u001b[39m\u001b[33m\"\u001b[39m, \u001b[33m\"\u001b[39m\u001b[33mNLL\u001b[39m\u001b[33m\"\u001b[39m, \n\u001b[32m     27\u001b[39m                 \u001b[38;5;66;03m#\"VS\", \"ES\"\u001b[39;00m\n\u001b[32m     28\u001b[39m                 ]\n\u001b[32m     29\u001b[39m cfg[\u001b[33m'\u001b[39m\u001b[33mMETRICS\u001b[39m\u001b[33m'\u001b[39m][\u001b[33m'\u001b[39m\u001b[33mFUNCS\u001b[39m\u001b[33m'\u001b[39m] = EasyDict({\n\u001b[32m     30\u001b[39m     \u001b[33m'\u001b[39m\u001b[33mNLL\u001b[39m\u001b[33m'\u001b[39m: nll_loss,\n\u001b[32m     31\u001b[39m     \u001b[33m'\u001b[39m\u001b[33mCRPS\u001b[39m\u001b[33m'\u001b[39m: crps,\n\u001b[32m     32\u001b[39m     \u001b[38;5;66;03m# 'Evaluator': Evaluator(distribution_type=MODEL_PARAM['distribution_type'], \u001b[39;00m\n\u001b[32m     33\u001b[39m     \u001b[38;5;66;03m#                        quantiles=MODEL_PARAM['quantiles']),\u001b[39;00m\n\u001b[32m---> \u001b[39m\u001b[32m34\u001b[39m     \u001b[33m'\u001b[39m\u001b[33mVal_Evaluator\u001b[39m\u001b[33m'\u001b[39m: \u001b[43mEvaluator\u001b[49m\u001b[43m(\u001b[49m\u001b[43mdistribution_type\u001b[49m\u001b[43m=\u001b[49m\u001b[43mcfg\u001b[49m\u001b[43m[\u001b[49m\u001b[33;43m'\u001b[39;49m\u001b[33;43mMODEL\u001b[39;49m\u001b[33;43m'\u001b[39;49m\u001b[43m]\u001b[49m\u001b[43m[\u001b[49m\u001b[33;43m'\u001b[39;49m\u001b[33;43mPARAM\u001b[39;49m\u001b[33;43m'\u001b[39;49m\u001b[43m]\u001b[49m\u001b[43m[\u001b[49m\u001b[33;43m'\u001b[39;49m\u001b[33;43mdistribution_type\u001b[39;49m\u001b[33;43m'\u001b[39;49m\u001b[43m]\u001b[49m\u001b[43m,\u001b[49m\u001b[43m \u001b[49m\u001b[43mmetrics\u001b[49m\u001b[43m \u001b[49m\u001b[43m=\u001b[49m\u001b[43m \u001b[49m\u001b[43mall_metrics\u001b[49m\u001b[43m,\u001b[49m\n\u001b[32m     35\u001b[39m \u001b[43m                            \u001b[49m\u001b[43mquantiles\u001b[49m\u001b[43m=\u001b[49m\u001b[43mcfg\u001b[49m\u001b[43m[\u001b[49m\u001b[33;43m'\u001b[39;49m\u001b[33;43mMODEL\u001b[39;49m\u001b[33;43m'\u001b[39;49m\u001b[43m]\u001b[49m\u001b[43m[\u001b[49m\u001b[33;43m'\u001b[39;49m\u001b[33;43mPARAM\u001b[39;49m\u001b[33;43m'\u001b[39;49m\u001b[43m]\u001b[49m\u001b[43m[\u001b[49m\u001b[33;43m'\u001b[39;49m\u001b[33;43mprob_args\u001b[39;49m\u001b[33;43m'\u001b[39;49m\u001b[43m]\u001b[49m\u001b[43m[\u001b[49m\u001b[33;43m'\u001b[39;49m\u001b[33;43mquantiles\u001b[39;49m\u001b[33;43m'\u001b[39;49m\u001b[43m]\u001b[49m\u001b[43m)\u001b[49m,  \u001b[38;5;66;03m# only use the evaluator during validation/testing iters\u001b[39;00m\n\u001b[32m     36\u001b[39m })\n\u001b[32m     39\u001b[39m \u001b[38;5;28;01mif\u001b[39;00m random_state \u001b[38;5;129;01mis\u001b[39;00m \u001b[38;5;129;01mnot\u001b[39;00m \u001b[38;5;28;01mNone\u001b[39;00m:\n\u001b[32m     40\u001b[39m     \u001b[38;5;28mprint\u001b[39m(\u001b[33mf\u001b[39m\u001b[33m'\u001b[39m\u001b[33mUsing random state \u001b[39m\u001b[38;5;132;01m{\u001b[39;00mrandom_state\u001b[38;5;132;01m}\u001b[39;00m\u001b[33m'\u001b[39m)\n",
      "\u001b[36mFile \u001b[39m\u001b[32m~/Probabilistic_LTSF/BasicTS/basicts/metrics/probts.py:243\u001b[39m, in \u001b[36mEvaluator.__init__\u001b[39m\u001b[34m(self, metrics, quantiles, distribution_type, num_samples)\u001b[39m\n\u001b[32m    241\u001b[39m \u001b[38;5;28;01melse\u001b[39;00m:\n\u001b[32m    242\u001b[39m     \u001b[38;5;28mself\u001b[39m.quantiles = quantiles\n\u001b[32m--> \u001b[39m\u001b[32m243\u001b[39m \u001b[38;5;28mself\u001b[39m.prob_head = \u001b[43mProbabilisticHead\u001b[49m\u001b[43m(\u001b[49m\u001b[32;43m1\u001b[39;49m\u001b[43m,\u001b[49m\u001b[43m \u001b[49m\u001b[32;43m1\u001b[39;49m\u001b[43m,\u001b[49m\u001b[43m \u001b[49m\u001b[38;5;28;43mself\u001b[39;49m\u001b[43m.\u001b[49m\u001b[43mdistribution_type\u001b[49m\u001b[43m)\u001b[49m\n\u001b[32m    245\u001b[39m \u001b[38;5;28mself\u001b[39m.__all_metrics__ = [\u001b[33m\"\u001b[39m\u001b[33mMSE\u001b[39m\u001b[33m\"\u001b[39m, \u001b[33m\"\u001b[39m\u001b[33mabs_error\u001b[39m\u001b[33m\"\u001b[39m, \u001b[33m\"\u001b[39m\u001b[33mabs_target_sum\u001b[39m\u001b[33m\"\u001b[39m, \u001b[33m\"\u001b[39m\u001b[33mabs_target_mean\u001b[39m\u001b[33m\"\u001b[39m,\n\u001b[32m    246\u001b[39m                         \u001b[33m\"\u001b[39m\u001b[33mMAPE\u001b[39m\u001b[33m\"\u001b[39m, \u001b[33m\"\u001b[39m\u001b[33msMAPE\u001b[39m\u001b[33m\"\u001b[39m, \u001b[33m\"\u001b[39m\u001b[33mMASE\u001b[39m\u001b[33m\"\u001b[39m, \u001b[33m\"\u001b[39m\u001b[33mRMSE\u001b[39m\u001b[33m\"\u001b[39m, \u001b[33m\"\u001b[39m\u001b[33mNRMSE\u001b[39m\u001b[33m\"\u001b[39m, \u001b[33m\"\u001b[39m\u001b[33mND\u001b[39m\u001b[33m\"\u001b[39m, \u001b[33m\"\u001b[39m\u001b[33mweighted_ND\u001b[39m\u001b[33m\"\u001b[39m,\n\u001b[32m    247\u001b[39m                         \u001b[33m\"\u001b[39m\u001b[33mmean_absolute_QuantileLoss\u001b[39m\u001b[33m\"\u001b[39m, \u001b[33m\"\u001b[39m\u001b[33mCRPS\u001b[39m\u001b[33m\"\u001b[39m, \u001b[33m\"\u001b[39m\u001b[33mMAE_Coverage\u001b[39m\u001b[33m\"\u001b[39m, \u001b[33m\"\u001b[39m\u001b[33mNLL\u001b[39m\u001b[33m\"\u001b[39m, \u001b[33m\"\u001b[39m\u001b[33mVS\u001b[39m\u001b[33m\"\u001b[39m, \u001b[33m\"\u001b[39m\u001b[33mES\u001b[39m\u001b[33m\"\u001b[39m]\n\u001b[32m    248\u001b[39m \u001b[38;5;28;01mif\u001b[39;00m metrics == \u001b[33m\"\u001b[39m\u001b[33mall\u001b[39m\u001b[33m\"\u001b[39m:\n",
      "\u001b[36mFile \u001b[39m\u001b[32m~/Probabilistic_LTSF/BasicTS/prob/prob_head.py:33\u001b[39m, in \u001b[36mProbabilisticHead.__init__\u001b[39m\u001b[34m(self, input_dim, output_dim, distribution_type, prob_args)\u001b[39m\n\u001b[32m     31\u001b[39m \u001b[38;5;28;01mif\u001b[39;00m distribution_type \u001b[38;5;129;01mnot\u001b[39;00m \u001b[38;5;129;01min\u001b[39;00m \u001b[38;5;28mself\u001b[39m.DISTRIBUTIONS:\n\u001b[32m     32\u001b[39m     \u001b[38;5;28;01mraise\u001b[39;00m \u001b[38;5;167;01mValueError\u001b[39;00m(\u001b[33mf\u001b[39m\u001b[33m\"\u001b[39m\u001b[33mUnsupported distribution type: \u001b[39m\u001b[38;5;132;01m{\u001b[39;00mdistribution_type\u001b[38;5;132;01m}\u001b[39;00m\u001b[33m\"\u001b[39m)\n\u001b[32m---> \u001b[39m\u001b[32m33\u001b[39m \u001b[38;5;28mself\u001b[39m.head = \u001b[38;5;28;43mself\u001b[39;49m\u001b[43m.\u001b[49m\u001b[43mDISTRIBUTIONS\u001b[49m\u001b[43m[\u001b[49m\u001b[43mdistribution_type\u001b[49m\u001b[43m]\u001b[49m\u001b[43m(\u001b[49m\u001b[43minput_dim\u001b[49m\u001b[43m,\u001b[49m\u001b[43m \u001b[49m\u001b[43moutput_dim\u001b[49m\u001b[43m,\u001b[49m\u001b[43m \u001b[49m\u001b[43mprob_args\u001b[49m\u001b[43m=\u001b[49m\u001b[43mprob_args\u001b[49m\u001b[43m)\u001b[49m\n",
      "\u001b[36mFile \u001b[39m\u001b[32m~/Probabilistic_LTSF/BasicTS/prob/dist_heads.py:285\u001b[39m, in \u001b[36mQuantileHead.__init__\u001b[39m\u001b[34m(self, input_dim, output_dim, prob_args)\u001b[39m\n\u001b[32m    283\u001b[39m \u001b[38;5;28;01mdef\u001b[39;00m\u001b[38;5;250m \u001b[39m\u001b[34m__init__\u001b[39m(\u001b[38;5;28mself\u001b[39m, input_dim, output_dim, prob_args={}):\n\u001b[32m    284\u001b[39m     \u001b[38;5;28msuper\u001b[39m().\u001b[34m__init__\u001b[39m(input_dim, output_dim, prob_args=prob_args)\n\u001b[32m--> \u001b[39m\u001b[32m285\u001b[39m     \u001b[38;5;28;01massert\u001b[39;00m \u001b[43mprob_args\u001b[49m\u001b[43m[\u001b[49m\u001b[33;43m'\u001b[39;49m\u001b[33;43mquantiles\u001b[39;49m\u001b[33;43m'\u001b[39;49m\u001b[43m]\u001b[49m \u001b[38;5;129;01mis\u001b[39;00m \u001b[38;5;129;01mnot\u001b[39;00m \u001b[38;5;28;01mNone\u001b[39;00m, \u001b[33m\"\u001b[39m\u001b[33mquantiles must be specified for quantile regression\u001b[39m\u001b[33m\"\u001b[39m\n\u001b[32m    286\u001b[39m     \u001b[38;5;28mself\u001b[39m.quantiles = prob_args[\u001b[33m'\u001b[39m\u001b[33mquantiles\u001b[39m\u001b[33m'\u001b[39m]\n\u001b[32m    287\u001b[39m     \u001b[38;5;28mself\u001b[39m.layers = nn.ModuleList([nn.Linear(input_dim, output_dim) \u001b[38;5;28;01mfor\u001b[39;00m _ \u001b[38;5;129;01min\u001b[39;00m \u001b[38;5;28mrange\u001b[39m(\u001b[38;5;28mlen\u001b[39m(\u001b[38;5;28mself\u001b[39m.quantiles))])\n",
      "\u001b[31mKeyError\u001b[39m: 'quantiles'"
     ]
    }
   ],
   "source": [
    "# 1. load the model and set the device\n",
    "configs = {#'ETTh1_PTST_u': {'cfg':'final_weights/PatchTST/univariate/ETTh1_prob.py',\n",
    "           #                 'ckpt': 'final_weights/PatchTST/univariate/ETTh1_100_96_720/a8de06edad7530010e0b704422b431a2/PatchTST_best_val_NLL.pt'\n",
    "           #                },\n",
    "           'ETTh1_PTST_q': {'cfg': 'final_weights/PatchTST/quantile/ETTh1_prob.py',\n",
    "                            'ckpt': 'final_weights/PatchTST/quantile/ETTh1_100_96_720/a2a39ac1680165e5ffbda2c7bbda5add/PatchTST_best_val_QL.pt'\n",
    "                           }\n",
    "          }\n",
    "evaluate_configs(configs)"
   ]
  },
  {
   "cell_type": "code",
   "execution_count": null,
   "id": "155d902f-88b6-4a96-b72a-c1fa01a87992",
   "metadata": {},
   "outputs": [],
   "source": []
  }
 ],
 "metadata": {
  "kernelspec": {
   "display_name": "BasicTS",
   "language": "python",
   "name": "basicts"
  },
  "language_info": {
   "codemirror_mode": {
    "name": "ipython",
    "version": 3
   },
   "file_extension": ".py",
   "mimetype": "text/x-python",
   "name": "python",
   "nbconvert_exporter": "python",
   "pygments_lexer": "ipython3",
   "version": "3.11.11"
  }
 },
 "nbformat": 4,
 "nbformat_minor": 5
}
