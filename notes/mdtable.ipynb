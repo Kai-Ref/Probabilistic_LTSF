{
 "cells": [
  {
   "cell_type": "code",
   "execution_count": 1,
   "metadata": {},
   "outputs": [
    {
     "name": "stdout",
     "output_type": "stream",
     "text": [
      "| Model + Paper                               | Local/global   | Data layout         | Architecture/method                                                  | Implementation         |\n",
      "|:--------------------------------------------|:---------------|:--------------------|:---------------------------------------------------------------------|:-----------------------|\n",
      "| PatchTST Nie et al., 2023                   | Global         | Univariate          | MLP, multi-head attention                                            | Pytorch                |\n",
      "| LagTST                                      | Global         | Univariate          | MLP, multi-head attention                                            | Pytorch                |\n",
      "| DLinear Zeng et al., 2023                   | Global         | Univariate          | MLP                                                                  | Pytorch                |\n",
      "| DeepAR Salinas et al. 2020                  | Global         | Univariate          | RNN                                                                  | MXNet, PyTorch         |\n",
      "| DeepState Rangapuram et al. 2018            | Global         | Univariate          | RNN, state-space model                                               | MXNet                  |\n",
      "| DeepFactor Wang et al. 2019                 | Global         | Univariate          | RNN, state-space model, Gaussian process                             | MXNet                  |\n",
      "| Deep Renewal Processes Türkmen et al. 2021  | Global         | Univariate          | RNN                                                                  | MXNet                  |\n",
      "| GPForecaster                                | Global         | Univariate          | MLP, Gaussian process                                                | MXNet                  |\n",
      "| MQ-CNN Wen et al. 2017                      | Global         | Univariate          | CNN encoder, MLP decoder                                             | MXNet                  |\n",
      "| MQ-RNN Wen et al. 2017                      | Global         | Univariate          | RNN encoder, MLP encoder                                             | MXNet                  |\n",
      "| N-BEATS Oreshkin et al. 2019                | Global         | Univariate          | MLP, residual links                                                  | MXNet                  |\n",
      "| Rotbaum Hasson et al. 2021                  | Global         | Univariate          | XGBoost, Quantile Regression Forests, LightGBM, Level Set Forecaster | Numpy                  |\n",
      "| Temporal Fusion Transformer Lim et al. 2021 | Global         | Univariate          | LSTM, self attention                                                 | MXNet, PyTorch         |\n",
      "| Transformer Vaswani et al. 2017             | Global         | Univariate          | MLP, multi-head attention                                            | MXNet                  |\n",
      "| WaveNet van den Oord et al. 2016            | Global         | Univariate          | Dilated convolution                                                  | MXNet, PyTorch         |\n",
      "| SimpleFeedForward                           | Global         | Univariate          | MLP                                                                  | MXNet, PyTorch         |\n",
      "| DeepNPTS                                    | Global         | Univariate          | MLP                                                                  | PyTorch                |\n",
      "| MQF2 Kan et al. 2022                        | Global         | Univariate          | RNN, ICNN                                                            | PyTorch                |\n",
      "| DeepVAR Salinas et al. 2019                 | Global         | Multivariate        | RNN                                                                  | MXNet                  |\n",
      "| GPVAR Salinas et al. 2019                   | Global         | Multivariate        | RNN, Gaussian process                                                | MXNet                  |\n",
      "| LSTNet Lai et al. 2018                      | Global         | Multivariate        | LSTM                                                                 | MXNet                  |\n",
      "| DeepTPP Shchur et al. 2020                  | Global         | Multivariate events | RNN, temporal point process                                          | MXNet                  |\n",
      "| DeepVARHierarchical Rangapuram et al. 2021  | Global         | Hierarchical        | RNN                                                                  | MXNet                  |\n",
      "| RForecast Hyndman et al. 2008               | Local          | Univariate          | ARIMA, ETS, Croston, TBATS                                           | Wrapped R package      |\n",
      "| Prophet Taylor et al. 2017                  | Local          | Univariate          | -                                                                    | Wrapped Python package |\n",
      "| NaiveSeasonal Hyndman et al. 2018           | Local          | Univariate          | -                                                                    | Numpy                  |\n",
      "| Naive2 Makridakis et al. 1998               | Local          | Univariate          | -                                                                    | Numpy                  |\n",
      "| NPTS                                        | Local          | Univariate          | -                                                                    | Numpy                  |\n"
     ]
    }
   ],
   "source": [
    "import pandas as pd\n",
    "\n",
    "# URL of the page\n",
    "url = 'https://ts.gluon.ai/dev/getting_started/models.html#available-models'\n",
    "\n",
    "# Extract table from the URL\n",
    "tables = pd.read_html(url)  # This returns a list of tables\n",
    "markdown_table = tables[0].to_markdown(index=False)  # Convert the first table to markdown\n",
    "\n",
    "print(markdown_table)"
   ]
  }
 ],
 "metadata": {
  "kernelspec": {
   "display_name": "vne",
   "language": "python",
   "name": "python3"
  },
  "language_info": {
   "codemirror_mode": {
    "name": "ipython",
    "version": 3
   },
   "file_extension": ".py",
   "mimetype": "text/x-python",
   "name": "python",
   "nbconvert_exporter": "python",
   "pygments_lexer": "ipython3",
   "version": "3.12.7"
  }
 },
 "nbformat": 4,
 "nbformat_minor": 2
}
